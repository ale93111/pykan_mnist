{
 "cells": [
  {
   "cell_type": "code",
   "execution_count": 1,
   "id": "1304b162-6c4b-4853-a7ca-b3596ed6fa93",
   "metadata": {},
   "outputs": [],
   "source": [
    "import numpy as np\n",
    "from mnist import MNIST\n",
    "from kan import KAN\n",
    "import torch\n",
    "\n",
    "mndata = MNIST('data/MNIST/raw')\n",
    "\n",
    "train_images, train_labels = mndata.load_training()\n",
    "# or\n",
    "test_images, test_labels = mndata.load_testing()\n",
    "\n",
    "train_images = np.array(train_images)[:20000]/255\n",
    "train_labels = np.array(train_labels)[:20000]\n",
    "test_images = np.array(test_images)[:3000]/255\n",
    "test_labels = np.array(test_labels)[:3000]\n"
   ]
  },
  {
   "cell_type": "code",
   "execution_count": 2,
   "id": "fcc1aa00-bd5c-4b42-ad7d-28d0f270a320",
   "metadata": {},
   "outputs": [
    {
     "data": {
      "text/plain": [
       "((20000, 784), (20000,), (3000, 784), (3000,))"
      ]
     },
     "execution_count": 2,
     "metadata": {},
     "output_type": "execute_result"
    }
   ],
   "source": [
    "train_images.shape, train_labels.shape, test_images.shape, test_labels.shape"
   ]
  },
  {
   "cell_type": "code",
   "execution_count": 3,
   "id": "c545c254-31eb-480c-9fb2-37208aa50e81",
   "metadata": {},
   "outputs": [],
   "source": [
    "dataset = {}\n",
    "\n",
    "dataset['train_input'] = torch.from_numpy(train_images)\n",
    "dataset['test_input'] = torch.from_numpy(test_images)\n",
    "dataset['train_label'] = torch.from_numpy(train_labels)\n",
    "dataset['test_label'] = torch.from_numpy(test_labels)"
   ]
  },
  {
   "cell_type": "code",
   "execution_count": 4,
   "id": "1aa23caa-a409-469e-94a9-4c6517add72f",
   "metadata": {},
   "outputs": [],
   "source": [
    "def train_acc():\n",
    "    return torch.mean((torch.argmax(model(dataset['train_input']), dim=1) == dataset['train_label']).float())\n",
    "\n",
    "def test_acc():\n",
    "    return torch.mean((torch.argmax(model(dataset['test_input']), dim=1) == dataset['test_label']).float())\n",
    "\n"
   ]
  },
  {
   "cell_type": "code",
   "execution_count": 5,
   "id": "5a28e76a-67b9-47ce-a0d0-7dce99624904",
   "metadata": {},
   "outputs": [],
   "source": [
    "model = KAN(width=[784,10], grid=3, k=3, seed=0)\n"
   ]
  },
  {
   "cell_type": "code",
   "execution_count": 6,
   "id": "a1b97f54-5294-4e33-aaee-0e23b52a2c18",
   "metadata": {},
   "outputs": [],
   "source": [
    "# plot KAN at initialization\n",
    "# model(dataset['train_input']);\n",
    "# model.plot(beta=100)"
   ]
  },
  {
   "cell_type": "code",
   "execution_count": 7,
   "id": "72747048-5ac6-44a9-a8b0-574ad2537d8d",
   "metadata": {},
   "outputs": [
    {
     "name": "stderr",
     "output_type": "stream",
     "text": [
      "train loss: 3.56e-01 | test loss: 6.29e-01 | reg: 1.21e+03 : 100%|█| 5/5 [2:17:12<00:00, 1646.53s/it\n"
     ]
    }
   ],
   "source": [
    "results = model.train(dataset, opt=\"LBFGS\", steps=5, metrics=(train_acc, test_acc), loss_fn=torch.nn.CrossEntropyLoss());\n"
   ]
  },
  {
   "cell_type": "code",
   "execution_count": 8,
   "id": "b0f134f6-b178-4061-a9fd-af146f131e19",
   "metadata": {},
   "outputs": [
    {
     "data": {
      "text/plain": [
       "5"
      ]
     },
     "execution_count": 8,
     "metadata": {},
     "output_type": "execute_result"
    }
   ],
   "source": [
    "len(results)"
   ]
  },
  {
   "cell_type": "code",
   "execution_count": 9,
   "id": "67ef6078-b62a-4f71-bba7-b7b6aef3c8ae",
   "metadata": {},
   "outputs": [
    {
     "data": {
      "text/plain": [
       "tensor(0.9645, dtype=torch.float32)"
      ]
     },
     "execution_count": 9,
     "metadata": {},
     "output_type": "execute_result"
    }
   ],
   "source": [
    "train_acc()"
   ]
  },
  {
   "cell_type": "code",
   "execution_count": 10,
   "id": "b3e4ba35-5134-4862-ad6b-1f786325dd88",
   "metadata": {},
   "outputs": [
    {
     "data": {
      "text/plain": [
       "tensor(0.9033, dtype=torch.float32)"
      ]
     },
     "execution_count": 10,
     "metadata": {},
     "output_type": "execute_result"
    }
   ],
   "source": [
    "test_acc()"
   ]
  },
  {
   "cell_type": "code",
   "execution_count": 11,
   "id": "fef7ab80-9a33-4fb7-9c90-580ac3767473",
   "metadata": {},
   "outputs": [
    {
     "name": "stdout",
     "output_type": "stream",
     "text": [
      "save this model to ./model_ckpt/model_mnist_30\n"
     ]
    }
   ],
   "source": [
    "model.save_ckpt('model_mnist_30')"
   ]
  },
  {
   "cell_type": "code",
   "execution_count": 12,
   "id": "6f3ee68e-fb93-4b4f-bcd8-6fc734378fb9",
   "metadata": {},
   "outputs": [
    {
     "data": {
      "text/plain": [
       "{'train_loss': [array(0.64569709),\n",
       "  array(0.53002707),\n",
       "  array(0.45944787),\n",
       "  array(0.40399165),\n",
       "  array(0.3561962)],\n",
       " 'test_loss': [array(0.70984552),\n",
       "  array(0.6256079),\n",
       "  array(0.60189584),\n",
       "  array(0.6006124),\n",
       "  array(0.62933707)],\n",
       " 'reg': [array(441.29284546),\n",
       "  array(554.2913348),\n",
       "  array(736.88606122),\n",
       "  array(977.44872653),\n",
       "  array(1205.97784117)],\n",
       " 'train_acc': [0.8795499801635742,\n",
       "  0.921500027179718,\n",
       "  0.9398999810218811,\n",
       "  0.9535499811172485,\n",
       "  0.9644500017166138],\n",
       " 'test_acc': [0.847000002861023,\n",
       "  0.890666663646698,\n",
       "  0.8993333578109741,\n",
       "  0.9049999713897705,\n",
       "  0.903333306312561]}"
      ]
     },
     "execution_count": 12,
     "metadata": {},
     "output_type": "execute_result"
    }
   ],
   "source": [
    "results"
   ]
  },
  {
   "cell_type": "code",
   "execution_count": null,
   "id": "0d140a78-0329-4f5a-9183-28209d243e62",
   "metadata": {},
   "outputs": [],
   "source": []
  }
 ],
 "metadata": {
  "kernelspec": {
   "display_name": "torch2",
   "language": "python",
   "name": "torch2"
  },
  "language_info": {
   "codemirror_mode": {
    "name": "ipython",
    "version": 3
   },
   "file_extension": ".py",
   "mimetype": "text/x-python",
   "name": "python",
   "nbconvert_exporter": "python",
   "pygments_lexer": "ipython3",
   "version": "3.10.6"
  }
 },
 "nbformat": 4,
 "nbformat_minor": 5
}
